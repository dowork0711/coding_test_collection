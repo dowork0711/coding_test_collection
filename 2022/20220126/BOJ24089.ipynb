{
 "cells": [
  {
   "cell_type": "markdown",
   "id": "7b98f1ab",
   "metadata": {},
   "source": [
    "## BOJ24089.py"
   ]
  },
  {
   "cell_type": "markdown",
   "id": "358794fc",
   "metadata": {},
   "source": [
    "### 번역본\n",
    "\n",
    "$N$개의 공이 있고, $1$부터 $N$까지 번호가 붙어있다.\n",
    "\n",
    "또 몇개의 공이라도 담을 수 있는 $N$개의 상자가 있고, 상자에는 1부터 $N$까지 번호가 붙어 있다.\n",
    "\n",
    "상자 $i$ （$1≦i≦N$）에는 최초에 공 $i$가 들어가 있다.\n",
    "\n",
    "JOI 고등학교 학생인 아오이는 이 상태에서 상자와 공에 대해 $M$번의 조작을 실시한다.\n",
    "\n",
    "$j$번째의（$1≦j≦M$）조작은 다음과 같이 실시된다.\n",
    "\n",
    "공 $X_j$가 들어있는 상자를 찾아 그 상자에서 공 $X_j$를 꺼낸다. 그리고 상자 $Y_j$에 $X_j$를 넣는다.\n",
    "\n",
    "아오이가 $M$번의 조작을 모두 마친 후 $N$개의 공이 각각 어느 상자에 들어있는지를 구하시오."
   ]
  },
  {
   "cell_type": "code",
   "execution_count": null,
   "id": "736abdfe",
   "metadata": {},
   "outputs": [],
   "source": [
    "# 변수 입력 받기\n",
    "m, n = map(int, input().split())"
   ]
  },
  {
   "cell_type": "code",
   "execution_count": null,
   "id": "29f8953f",
   "metadata": {},
   "outputs": [],
   "source": [
    "# 배열 초기화(배열 인덱스에 초기화된 값을 우선 넣어줌.)\n",
    "box = [i+1 for i in range(n)]"
   ]
  },
  {
   "cell_type": "code",
   "execution_count": null,
   "id": "f62a9bec",
   "metadata": {},
   "outputs": [],
   "source": [
    "# 배열을 돌며 공을 옮김\n",
    "for i in range(m):\n",
    "    x, y = map(int, input().split())\n",
    "    box[x-1] = y"
   ]
  },
  {
   "cell_type": "code",
   "execution_count": null,
   "id": "f39b0ba6",
   "metadata": {},
   "outputs": [],
   "source": [
    "# 배열에서 공을 순서대로 출력해줌\n",
    "for ball in box:\n",
    "    print(ball)"
   ]
  },
  {
   "cell_type": "code",
   "execution_count": null,
   "id": "fb5b83a1",
   "metadata": {},
   "outputs": [],
   "source": []
  }
 ],
 "metadata": {
  "kernelspec": {
   "display_name": "Python 3 (ipykernel)",
   "language": "python",
   "name": "python3"
  },
  "language_info": {
   "codemirror_mode": {
    "name": "ipython",
    "version": 3
   },
   "file_extension": ".py",
   "mimetype": "text/x-python",
   "name": "python",
   "nbconvert_exporter": "python",
   "pygments_lexer": "ipython3",
   "version": "3.9.10"
  }
 },
 "nbformat": 4,
 "nbformat_minor": 5
}
