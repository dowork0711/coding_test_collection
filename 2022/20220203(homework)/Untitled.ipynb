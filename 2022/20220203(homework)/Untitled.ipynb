{
 "cells": [
  {
   "cell_type": "markdown",
   "id": "e62c6406",
   "metadata": {},
   "source": [
    "## BOJ 5598 : 카이사르 암호\n",
    "\n",
    "---\n",
    "\n",
    "### 문제\n",
    "\n",
    "가이우스 율리우스 카이사르(Gaius Julius Caesar)는 고대 로마 군인이자 정치가였다. 카이사르는 비밀스럽게 편지를 쓸 때, 'A'를 'D로', 'B'를 'E'로, 'C'를 'F'로... 이런 식으로 알파벳 문자를 3개씩 건너뛰어 적었다고 한다.\n",
    "\n",
    "26개의 대문자 알파벳으로 이루어진 단어를 카이사르 암호 형식으로 3문자를 옮겨 겹치지 않게 나열하여 얻은 카이사르 단어가 있다. 이 카이사르 단어를 원래 단어로 돌려놓는 프로그램을 작성하시오.\n",
    "\n",
    "각 문자별로 변환 전과 변환 후를 나타낸 건 아래와 같다.\n",
    "\n",
    "```\n",
    "변환전    A B C D E F G H I J K L M N O P Q R S T U V W X Y Z \n",
    "변환후    D E F G H I J K L M N O P Q R S T U V W X Y Z A B C\n",
    "```\n",
    "\n",
    "예를 들어서, 이 방법대로 단어 'JOI'를 카이사르 단어 형식으로 변환한다면 'MRL'을 얻을 수 있고, 앞의 예와 같은 방법으로 얻은 카이사르 단어 'FURDWLD'를 원래 단어로 고치면 'CROATIA'가 된다.\n",
    "\n",
    "<br>\n",
    "\n",
    "### 입력\n",
    "입력은 한 줄로 이루어져 있으며, 그 한 줄에는 대문자 알파벳으로 구성된 단어가 1개 있다. 단어는 최대 1000자 이하이다.\n",
    "\n",
    "<br>\n",
    "\n",
    "### 출력\n",
    "입력받은 카이사르 단어를 원래 단어로 고친 걸 출력하시면 된다.\n",
    "\n",
    "<br>\n",
    "\n",
    "### 입출력 예시\n",
    "\n",
    "#### 예제입력 1\n",
    "MRL\n",
    "\n",
    "#### 예제출력 1\n",
    "JOI\n",
    "\n",
    "#### 예제입력 2\n",
    "FURDWLD\n",
    "\n",
    "#### 예제출력2\n",
    "CROATIA"
   ]
  },
  {
   "cell_type": "code",
   "execution_count": 75,
   "id": "c28c5fa1",
   "metadata": {},
   "outputs": [
    {
     "ename": "ModuleNotFoundError",
     "evalue": "No module named 'stdin'",
     "output_type": "error",
     "traceback": [
      "\u001b[0;31m---------------------------------------------------------------------------\u001b[0m",
      "\u001b[0;31mModuleNotFoundError\u001b[0m                       Traceback (most recent call last)",
      "Input \u001b[0;32mIn [75]\u001b[0m, in \u001b[0;36m<module>\u001b[0;34m\u001b[0m\n\u001b[1;32m      1\u001b[0m \u001b[38;5;66;03m# 입력 받기\u001b[39;00m\n\u001b[0;32m----> 2\u001b[0m \u001b[38;5;28;01mfrom\u001b[39;00m \u001b[38;5;21;01mstdin\u001b[39;00m \u001b[38;5;28;01mimport\u001b[39;00m sys\n\u001b[1;32m      3\u001b[0m \u001b[38;5;28minput\u001b[39m \u001b[38;5;241m=\u001b[39m stdin\u001b[38;5;241m.\u001b[39mreadline\n\u001b[1;32m      5\u001b[0m encryptedWord \u001b[38;5;241m=\u001b[39m \u001b[38;5;28minput\u001b[39m()\n",
      "\u001b[0;31mModuleNotFoundError\u001b[0m: No module named 'stdin'"
     ]
    }
   ],
   "source": [
    "# 입력 받기\n",
    "from stdin import sys\n",
    "input = stdin.readline\n",
    "\n",
    "encryptedWord = input()"
   ]
  },
  {
   "cell_type": "code",
   "execution_count": 74,
   "id": "5be64312",
   "metadata": {},
   "outputs": [],
   "source": [
    "# 입력 받은 단어를 배열에 넣기\n",
    "def caesar(wordArr):\n",
    "    encryption = [ord(i) for i in wordArr]\n",
    "    decryption = []\n",
    "\n",
    "    \n",
    "    print(''.join(encryption))"
   ]
  },
  {
   "cell_type": "code",
   "execution_count": 72,
   "id": "809b23f7",
   "metadata": {},
   "outputs": [
    {
     "name": "stdout",
     "output_type": "stream",
     "text": [
      "[]\n"
     ]
    }
   ],
   "source": [
    "print(encryptedWord)"
   ]
  },
  {
   "cell_type": "code",
   "execution_count": null,
   "id": "1332eefb",
   "metadata": {},
   "outputs": [],
   "source": []
  }
 ],
 "metadata": {
  "kernelspec": {
   "display_name": "Python 3 (ipykernel)",
   "language": "python",
   "name": "python3"
  },
  "language_info": {
   "codemirror_mode": {
    "name": "ipython",
    "version": 3
   },
   "file_extension": ".py",
   "mimetype": "text/x-python",
   "name": "python",
   "nbconvert_exporter": "python",
   "pygments_lexer": "ipython3",
   "version": "3.9.10"
  }
 },
 "nbformat": 4,
 "nbformat_minor": 5
}
