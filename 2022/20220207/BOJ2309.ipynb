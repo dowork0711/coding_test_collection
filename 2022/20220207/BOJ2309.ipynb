{
 "cells": [
  {
   "cell_type": "markdown",
   "id": "51b2c9bc",
   "metadata": {},
   "source": [
    "# BOJ 2309\n",
    "\n",
    "<br>\n",
    "\n",
    "## 문제\n",
    "\n",
    "---\n",
    "\n",
    "왕비를 피해 일곱 난쟁이들과 함께 평화롭게 생활하고 있던 백설공주에게 위기가 찾아왔다. \n",
    "\n",
    "일과를 마치고 돌아온 난쟁이가 일곱 명이 아닌 아홉 명이었던 것이다.\n",
    "\n",
    "아홉 명의 난쟁이는 모두 자신이 \"백설 공주와 일곱 난쟁이\"의 주인공이라고 주장했다. \n",
    "\n",
    "뛰어난 수학적 직관력을 가지고 있던 백설공주는, 다행스럽게도 일곱 난쟁이의 키의 합이 100이 됨을 기억해 냈다.\n",
    "\n",
    "아홉 난쟁이의 키가 주어졌을 때, 백설공주를 도와 일곱 난쟁이를 찾는 프로그램을 작성하시오.\n",
    "\n",
    "<br>\n",
    "\n",
    "## 입력\n",
    "\n",
    "---\n",
    "\n",
    "아홉 개의 줄에 걸쳐 난쟁이들의 키가 주어진다. \n",
    "\n",
    "주어지는 키는 100을 넘지 않는 자연수이며, 아홉 난쟁이의 키는 모두 다르며, 가능한 정답이 여러 가지인 경우에는 아무거나 출력한다.\n",
    "\n",
    "<br>\n",
    "\n",
    "## 출력\n",
    "\n",
    "---\n",
    "\n",
    "일곱 난쟁이의 키를 오름차순으로 출력한다. 일곱 난쟁이를 찾을 수 없는 경우는 없다.\n",
    "\n",
    "<br>\n",
    "\n",
    "## 입출력 예시\n",
    "\n",
    "---\n",
    "\n",
    "### 입력\n",
    "```\n",
    "20                     \n",
    "7                      \n",
    "23                      \n",
    "19                      \n",
    "10                      \n",
    "15                      \n",
    "25                      \n",
    "8\n",
    "13\n",
    "```\n",
    "\n",
    "### 출력\n",
    "```\n",
    "7\n",
    "8\n",
    "10\n",
    "13\n",
    "19\n",
    "20\n",
    "23\n",
    "```"
   ]
  },
  {
   "cell_type": "markdown",
   "id": "1b93c701",
   "metadata": {},
   "source": [
    "### `combinations` 모듈 사용 및 배열 초기화"
   ]
  },
  {
   "cell_type": "code",
   "execution_count": 1,
   "id": "68e7e462",
   "metadata": {},
   "outputs": [
    {
     "name": "stdout",
     "output_type": "stream",
     "text": [
      "20\n",
      "7\n",
      "23\n",
      "19\n",
      "10\n",
      "15\n",
      "25\n",
      "8\n",
      "13\n"
     ]
    }
   ],
   "source": [
    "from itertools import combinations\n",
    "\n",
    "dwarfs = [int(input()) for _ in range(9)]\n",
    "\n",
    "\n",
    "# dwarfs = []\n",
    "# for _ in range(9):\n",
    "#     dwarfs.append(int(input()))\n",
    "\n",
    "\n",
    "# 배열에 잘 들어갔는 지 확인\n",
    "# print(dwarfs)"
   ]
  },
  {
   "cell_type": "markdown",
   "id": "ec3d77c4",
   "metadata": {},
   "source": [
    "### combinations 모듈로 리스트의 조합 구하기"
   ]
  },
  {
   "cell_type": "code",
   "execution_count": 3,
   "id": "1d507bbc",
   "metadata": {},
   "outputs": [],
   "source": [
    "comb = combinations(dwarfs, 7)            # 7개 순서쌍의 모든 조합 구하기\n",
    "\n",
    "# print(*comb)                            # 조합이 잘 만들어졌는지 확인"
   ]
  },
  {
   "cell_type": "markdown",
   "id": "d3310469",
   "metadata": {},
   "source": [
    "### 조합의 합이 100일 때 배열 형태로 저장하고 정렬하여 출력"
   ]
  },
  {
   "cell_type": "code",
   "execution_count": 4,
   "id": "b2905208",
   "metadata": {},
   "outputs": [
    {
     "name": "stdout",
     "output_type": "stream",
     "text": [
      "7\n",
      "8\n",
      "10\n",
      "13\n",
      "19\n",
      "20\n",
      "23\n"
     ]
    }
   ],
   "source": [
    "for i in comb:\n",
    "    if sum(i) == 100:             # comb의 각 요소를 돌며 합이 100인 것을 찾았을 때\n",
    "        li = list(map(int, i))    # i에 대해 list형으로 저장\n",
    "        li.sort()                 # li를 정렬(오름차순) ... cf) sort(reverse=True)는 내림차순 정렬\n",
    "        for j in li:              # 출력\n",
    "            print(j)\n",
    "        break"
   ]
  },
  {
   "cell_type": "code",
   "execution_count": null,
   "id": "5cbc12ea",
   "metadata": {},
   "outputs": [],
   "source": []
  }
 ],
 "metadata": {
  "kernelspec": {
   "display_name": "Python 3.9.10 64-bit ('3.9.10')",
   "language": "python",
   "name": "python3910jvsc74a57bd07a5f0be800544d2868c2db1f1967394052bcf071afc9cbc236301bee73358c42"
  },
  "language_info": {
   "codemirror_mode": {
    "name": "ipython",
    "version": 3
   },
   "file_extension": ".py",
   "mimetype": "text/x-python",
   "name": "python",
   "nbconvert_exporter": "python",
   "pygments_lexer": "ipython3",
   "version": "3.9.10"
  }
 },
 "nbformat": 4,
 "nbformat_minor": 5
}
