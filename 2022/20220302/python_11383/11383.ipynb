{
 "cells": [
  {
   "cell_type": "markdown",
   "id": "f9022dd3",
   "metadata": {},
   "source": [
    "# BOJ 11383\n",
    "\n",
    "---\n",
    "<br>\n",
    "\n",
    "## 뚊\n",
    "\n",
    "---\n",
    "<br>\n",
    "정우는 \"뚊\"과 \"돌돔\"을 의미하는 두 이미지를 받았다. \n",
    "\n",
    "과연 두 그림이 같은지 검사해보자. \n",
    "\n",
    "즉 ￼ 크기의 이미지와 ￼크기의 이미지가 주어질 때 \n",
    "\n",
    "첫 번째 이미지를 가로로 두 배로 늘리면 두 번째 이미지가 되는지 검사하는 프로그램을 작성하라."
   ]
  },
  {
   "cell_type": "code",
   "execution_count": null,
   "id": "d2923f71",
   "metadata": {},
   "outputs": [],
   "source": [
    "# 공백을 두고 입력되는 숫자 입력받기\n",
    "\n",
    "n, m = map(int, input().split())"
   ]
  },
  {
   "cell_type": "code",
   "execution_count": null,
   "id": "5d8da1b9",
   "metadata": {},
   "outputs": [],
   "source": [
    "# 이미지에 대한 정보를 배열에 입력받기\n",
    "\n",
    "firImg = [input() for _ in range(n)]\n",
    "secImg = [input() for _ in range(n)]\n",
    "\n",
    "\n",
    "# 각 값을 조회하여 반영해 줄 checker\n",
    "\n",
    "checker = True"
   ]
  },
  {
   "cell_type": "code",
   "execution_count": null,
   "id": "97ac8a45",
   "metadata": {},
   "outputs": [],
   "source": [
    "# firImg의 각 요소에 2를 곱해서 ref에 더해주고 secImg와 비교하여\n",
    "# 같지 않은 경우 체커를 False로 돌려준다.\n",
    "\n",
    "for i in range(n):\n",
    "    ref = \"\"\n",
    "    for j in firImg[i]:\n",
    "        ref += j * 2\n",
    "    \n",
    "    if ref != secImg[i]:\n",
    "        checker = False\n",
    "        break"
   ]
  },
  {
   "cell_type": "code",
   "execution_count": null,
   "id": "e123f84f",
   "metadata": {},
   "outputs": [],
   "source": [
    "# 출력\n",
    "print(\"Eyfa\" if checker else \"Not Eyfa\")"
   ]
  },
  {
   "cell_type": "code",
   "execution_count": null,
   "id": "cb2fd812",
   "metadata": {},
   "outputs": [],
   "source": []
  }
 ],
 "metadata": {
  "kernelspec": {
   "display_name": "Python 3 (ipykernel)",
   "language": "python",
   "name": "python3"
  },
  "language_info": {
   "codemirror_mode": {
    "name": "ipython",
    "version": 3
   },
   "file_extension": ".py",
   "mimetype": "text/x-python",
   "name": "python",
   "nbconvert_exporter": "python",
   "pygments_lexer": "ipython3",
   "version": "3.9.10"
  }
 },
 "nbformat": 4,
 "nbformat_minor": 5
}
